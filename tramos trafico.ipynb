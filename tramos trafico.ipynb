{
 "cells": [
  {
   "cell_type": "code",
   "execution_count": 1,
   "id": "025e18df-4469-4b54-8876-b1a82e390224",
   "metadata": {},
   "outputs": [],
   "source": [
    "import os\n",
    "import glob\n",
    "import findspark\n",
    "findspark.init()\n",
    "import time\n",
    "import pyspark\n",
    "from pyspark.sql.functions import *\n",
    "from pyspark.sql import SparkSession\n",
    "from pyspark.sql.types import *\n",
    "from pyspark.sql.types import StructType, StringType, IntegerType, StructField, ArrayType, DateType\n",
    "spark = SparkSession.builder.master(\"local[*]\").getOrCreate()"
   ]
  },
  {
   "cell_type": "code",
   "execution_count": 2,
   "id": "921613ed-d2e4-4bfe-833a-aa52b577f5f4",
   "metadata": {},
   "outputs": [],
   "source": [
    "schema = StructType([StructField('id', IntegerType(), True)\n",
    "                     ,StructField('fecha', DateType(), True)\n",
    "                     ,StructField('tipo_elem', StringType(), True)\n",
    "                     ,StructField('intensidad', IntegerType(), True)\n",
    "                     ,StructField('ocupacion', IntegerType(), True)\n",
    "                     ,StructField('carga', IntegerType(), True)\n",
    "                     ,StructField('vmed', IntegerType(), True)\n",
    "                     ,StructField('error', IntegerType(), True)\n",
    "                     ,StructField('periodo_integracion', IntegerType(), True)])"
   ]
  },
  {
   "cell_type": "code",
   "execution_count": 3,
   "id": "e0dce9d6-9aa4-4b31-9953-a17908f67886",
   "metadata": {},
   "outputs": [],
   "source": [
    "## DATASET FINAL ##\n",
    "csv_files = glob.glob('datos_trafico/*.{}'.format('csv'))\n",
    "añosPandemia = spark.createDataFrame([], schema)\n",
    "for file in csv_files:\n",
    "            temp = spark.read.csv(file,header=True, inferSchema=True, sep=\";\")\n",
    "            añosPandemia = añosPandemia.union(temp)\n",
    "añosPandemia = añosPandemia.withColumn(\"fecha\",to_timestamp(col(\"fecha\")))"
   ]
  },
  {
   "cell_type": "code",
   "execution_count": 4,
   "id": "f02d0bf8-afec-4517-a04c-8e73feddf0bb",
   "metadata": {},
   "outputs": [],
   "source": [
    "def media_intensidad(fecha1, fecha2, nombre):\n",
    "    fase = añosPandemia.where((añosPandemia.fecha >= fecha1) & (añosPandemia.fecha <= fecha2))\n",
    "    media = fase.groupBy(\"id\").mean(\"intensidad\")\n",
    "    rango = media.withColumn(\"RANGO\", lit(nombre))\n",
    "    rango = rango.drop(\"id\").groupby(\"RANGO\").mean(\"avg(intensidad)\")\n",
    "    rango = rango.withColumnRenamed(\"avg(avg(intensidad))\",\"MEDIA INTENSIDAD TRAFICO\")\n",
    "    return rango"
   ]
  },
  {
   "cell_type": "code",
   "execution_count": 5,
   "id": "92ed10de-1c35-43b7-90fa-0c9b9f5ed4db",
   "metadata": {},
   "outputs": [],
   "source": [
    "rango1 = media_intensidad(\"2019-12-20\",\"2020-03-10\",\"Rango 1\") #PRIMER RANGO - 20 Diciembre 2019 hasta 10 Marzo 2020\n",
    "rango2 = media_intensidad(\"2020-03-14\",\"2020-05-10\",\"Rango 2\") #SEGUNDO RANGO - 14 Marzo 2020 hasta 10 Mayo 2020\n",
    "rango3 = media_intensidad(\"2020-05-11\",\"2020-10-26\",\"Rango 3\") #TERCER RANGO - 11 Mayo 2020 hasta 26 Octubre 2020\n",
    "rango4 = media_intensidad(\"2020-10-27\",\"2021-05-08\",\"Rango 4\") #CUARTO RANGO - 27 Octubre 2020 hasta 8 Mayo 2021\n",
    "rango5 = media_intensidad(\"2021-05-09\",\"2021-12-12\",\"Rango 5\") #QUINTO RANGO - 9 Mayo 2021 hasta 12 Diciembre 2021\n",
    "rango6 = media_intensidad(\"2021-12-13\",\"2022-06-26\",\"Rango 6\") #SEXTO RANGO - 13 Diciembre 2021 hasta 26 Junio 2022\n",
    "rango7 = media_intensidad(\"2022-06-27\",\"2022-12-31\",\"Rango 7\") #SEPTIMO RANGO - 27 Junio 2022 hasta 31 Diciembre 2022"
   ]
  },
  {
   "cell_type": "code",
   "execution_count": 6,
   "id": "d607c6c3-47bb-445c-80f2-31cbd3314e2f",
   "metadata": {},
   "outputs": [],
   "source": [
    "rangos_medias = rango1.union(rango2).union(rango3).union(rango4).union(rango5).union(rango6).union(rango7)"
   ]
  },
  {
   "cell_type": "code",
   "execution_count": 7,
   "id": "51c65f42-330d-4bdd-b470-2b3c72ea4821",
   "metadata": {},
   "outputs": [
    {
     "name": "stdout",
     "output_type": "stream",
     "text": [
      "+-------+------------------------+\n",
      "|  RANGO|MEDIA INTENSIDAD TRAFICO|\n",
      "+-------+------------------------+\n",
      "|Rango 1|       403.9810309658522|\n",
      "|Rango 2|      103.65971343341077|\n",
      "|Rango 3|        288.029068682581|\n",
      "|Rango 4|       329.6692256373894|\n",
      "|Rango 5|      362.67685728618875|\n",
      "|Rango 6|      364.69273030969066|\n",
      "|Rango 7|      352.66431178608815|\n",
      "+-------+------------------------+\n",
      "\n"
     ]
    }
   ],
   "source": [
    "rangos_medias.show()"
   ]
  }
 ],
 "metadata": {
  "kernelspec": {
   "display_name": "Python 3 (ipykernel)",
   "language": "python",
   "name": "python3"
  },
  "language_info": {
   "codemirror_mode": {
    "name": "ipython",
    "version": 3
   },
   "file_extension": ".py",
   "mimetype": "text/x-python",
   "name": "python",
   "nbconvert_exporter": "python",
   "pygments_lexer": "ipython3",
   "version": "3.9.12"
  }
 },
 "nbformat": 4,
 "nbformat_minor": 5
}
