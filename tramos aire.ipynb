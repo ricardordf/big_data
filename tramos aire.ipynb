{
 "cells": [
  {
   "cell_type": "code",
   "execution_count": 1,
   "id": "9477cb06-46e9-47c8-bc08-4c13291ea211",
   "metadata": {},
   "outputs": [],
   "source": [
    "import os\n",
    "import glob\n",
    "import findspark\n",
    "findspark.init()\n",
    "import time\n",
    "import pyspark\n",
    "from pyspark.sql.functions import *\n",
    "from pyspark.sql import SparkSession\n",
    "from pyspark.sql.types import *\n",
    "from pyspark.sql.types import StructType, StringType, IntegerType, StructField, ArrayType, DoubleType, DateType\n",
    "from pyspark.sql.functions import col\n",
    "spark = SparkSession.builder.master(\"local[*]\").getOrCreate()"
   ]
  },
  {
   "cell_type": "code",
   "execution_count": 5,
   "id": "60779d55-76a1-4279-96c6-e70295d786b7",
   "metadata": {},
   "outputs": [],
   "source": [
    "año2019 = spark.read.csv(\"datos_aire/aire2019.csv\",header=True, inferSchema=True, sep=\";\")\n",
    "año2020 = spark.read.csv(\"datos_aire/aire2020.csv\",header=True, inferSchema=True, sep=\";\")\n",
    "año2021 = spark.read.csv(\"datos_aire/aire2021.csv\",header=True, inferSchema=True, sep=\";\")\n",
    "año2022 = spark.read.csv(\"datos_aire/aire2022.csv\",header=True, inferSchema=True, sep=\";\")\n",
    "añosAire = año2019.union(año2020).union(año2021).union(año2022)\n",
    "añosAire = añosAire.drop(\"v01\",\"v02\",\"v03\",\"v04\",\"v05\",\"v06\",\"v07\",\"v08\",\"v09\",\"v10\"\n",
    "                         ,\"v11\",\"v12\",\"v13\",\"v14\",\"v15\",\"v16\",\"v17\",\"v18\",\"v19\",\"v20\"\n",
    "                         ,\"v21\",\"v22\",\"v23\",\"v24\")"
   ]
  },
  {
   "cell_type": "code",
   "execution_count": 6,
   "id": "adb008ab-ff4e-407d-a689-69f8c95aa953",
   "metadata": {},
   "outputs": [],
   "source": [
    "cols = [\"h01\",\"h02\",\"h03\",\"h04\",\"h05\",\"h06\",\"h07\",\"h08\",\"h09\",\"h10\"\n",
    "       ,\"h11\",\"h12\",\"h13\",\"h14\",\"h15\",\"h16\",\"h17\",\"h18\",\"h19\",\"h20\"\n",
    "       ,\"h21\",\"h22\",\"h23\",\"h24\"]\n",
    "for col_name in cols:\n",
    "    añosAire = añosAire.withColumn(col_name, regexp_replace(col_name, ',', '.'))\n",
    "    añosAire = añosAire.withColumn(col_name,añosAire.h01.cast('float'))\n",
    "\n",
    "añosAire = añosAire.withColumn('h01', regexp_replace('h01', ',', '.'))\n",
    "añosAire = añosAire.withColumn(\"h01\",añosAire.h01.cast('float'))\n",
    "añosAire = añosAire.withColumn(\"media_24h\", (col(\"h01\")+col(\"h02\")+ col(\"h03\")+ col(\"h04\")+ col(\"h05\")\n",
    "                        + col(\"h06\")+ col(\"h07\")+ col(\"h08\")+ col(\"h09\")+ col(\"h10\")\n",
    "                        + col(\"h11\")+ col(\"h12\")+ col(\"h13\")+ col(\"h14\")+ col(\"h15\")\n",
    "                        + col(\"h16\")+ col(\"h17\")+ col(\"h18\")+ col(\"h19\")+ col(\"h20\")\n",
    "                        + col(\"h21\")+ col(\"h22\")+ col(\"h23\")+ col(\"h24\")) / lit(24))\n",
    "añosAire = añosAire.drop(\"h01\",\"h02\",\"h03\",\"h04\",\"h05\",\"h06\",\"h07\",\"h08\",\"h09\",\"h10\"\n",
    "                         ,\"h11\",\"h12\",\"h13\",\"h14\",\"h15\",\"h16\",\"h17\",\"h18\",\"h19\",\"h20\"\n",
    "                         ,\"h21\",\"h22\",\"h23\",\"h24\")\n",
    "\n",
    "añosAire = añosAire.withColumn('ano', concat(col(\"ano\"),lit(\"-\"),col(\"mes\")).alias('fecha'))\n",
    "añosAire = añosAire.withColumnRenamed(\"ano\",\"Fecha\")\n",
    "añosAire = añosAire.drop(\"mes\",\"dia\",\"estacion\",\"punto_muestreo\",\"provincia\",\"municipio\")\n"
   ]
  },
  {
   "cell_type": "code",
   "execution_count": 4,
   "id": "afa3a233-cc1a-432b-bfe5-afa50a631bf1",
   "metadata": {},
   "outputs": [],
   "source": [
    "mediaMagnitud = añosAire.groupby(\"Fecha\", \"magnitud\").mean(\"media_24h\")\n"
   ]
  },
  {
   "cell_type": "code",
   "execution_count": 5,
   "id": "88b0e669-a62c-419a-af6e-7c1467340cce",
   "metadata": {},
   "outputs": [
    {
     "name": "stdout",
     "output_type": "stream",
     "text": [
      "+-------+-------------------+------------------+---------------------+--------------------+-------------------+---------------------+\n",
      "|  RANGO|Monóxido de Carbono| Dioxido de Azufre|Monóxido de Nitrógeno|Dióxido de Nitrógeno|Óxidos de Nitrógeno|Hidrocarburos Totales|\n",
      "+-------+-------------------+------------------+---------------------+--------------------+-------------------+---------------------+\n",
      "|Rango 1| 0.6214547668700391|1.2544592030360529|   17.447504702312354|  25.817908994947985|  52.71089663853794|   1.4538789988374354|\n",
      "+-------+-------------------+------------------+---------------------+--------------------+-------------------+---------------------+\n",
      "\n"
     ]
    }
   ],
   "source": [
    "#RANGO 1 - Meses de Diciembre 2019 y Enero / Febrero 2020\n",
    "def media_tramo1(numMagnitud,nomMagnitud):\n",
    "    fase1 = mediaMagnitud.where(mediaMagnitud.magnitud == numMagnitud)\n",
    "    fase1 = fase1.where((mediaMagnitud.Fecha == \"2019-12\") \n",
    "                              | (mediaMagnitud.Fecha == \"2020-1\") \n",
    "                              | (mediaMagnitud.Fecha == \"2020-2\"))\n",
    "    fase1 = fase1.groupby(\"magnitud\").mean(\"avg(media_24h)\")\n",
    "    fase1 = fase1.withColumnRenamed(\"avg(avg(media_24h))\",str(nomMagnitud))\n",
    "    fase1 = fase1.withColumnRenamed(\"magnitud\",\"RANGO\")\n",
    "    fase1 = fase1.filter(fase1.RANGO == str(numMagnitud)).withColumn('RANGO', lit(\"Rango 1\"))\n",
    "    return fase1\n",
    "\n",
    "media1 = media_tramo1(6,\"Monóxido de Carbono\")\n",
    "media2 = media_tramo1(1,\"Dioxido de Azufre\")\n",
    "media3 = media_tramo1(7,\"Monóxido de Nitrógeno\")\n",
    "media4 = media_tramo1(8,\"Dióxido de Nitrógeno\")\n",
    "media5 = media_tramo1(12,\"Óxidos de Nitrógeno\")\n",
    "media6 = media_tramo1(42,\"Hidrocarburos Totales\")\n",
    "rango1 = media1.join(media2, ['RANGO']).join(media3, ['RANGO']).join(media4, ['RANGO']).join(media5, ['RANGO']).join(media6, ['RANGO'])\n",
    "rango1.show()\n"
   ]
  },
  {
   "cell_type": "code",
   "execution_count": 6,
   "id": "017c5c85-40b6-40b6-83d3-268ded40f9f5",
   "metadata": {},
   "outputs": [
    {
     "name": "stdout",
     "output_type": "stream",
     "text": [
      "+-------+-------------------+-----------------+---------------------+--------------------+-------------------+---------------------+\n",
      "|  RANGO|Monóxido de Carbono|Dioxido de Azufre|Monóxido de Nitrógeno|Dióxido de Nitrógeno|Óxidos de Nitrógeno|Hidrocarburos Totales|\n",
      "+-------+-------------------+-----------------+---------------------+--------------------+-------------------+---------------------+\n",
      "|Rango 2| 0.4480774009327873|1.297079337401918|   1.6833746671314687|   8.977033506095728| 11.979057566422796|    1.360752566854871|\n",
      "+-------+-------------------+-----------------+---------------------+--------------------+-------------------+---------------------+\n",
      "\n"
     ]
    }
   ],
   "source": [
    "#RANGO 2 - Meses de Marzo / Abril / Mayo 2020\n",
    "def media_tramo1(numMagnitud,nomMagnitud):\n",
    "    fase1 = mediaMagnitud.where(mediaMagnitud.magnitud == numMagnitud)\n",
    "    fase1 = fase1.where((mediaMagnitud.Fecha == \"2020-3\") \n",
    "                              | (mediaMagnitud.Fecha == \"2020-4\") \n",
    "                              | (mediaMagnitud.Fecha == \"2020-5\"))\n",
    "    fase1 = fase1.groupby(\"magnitud\").mean(\"avg(media_24h)\")\n",
    "    fase1 = fase1.withColumnRenamed(\"avg(avg(media_24h))\",str(nomMagnitud))\n",
    "    fase1 = fase1.withColumnRenamed(\"magnitud\",\"RANGO\")\n",
    "    fase1 = fase1.filter(fase1.RANGO == str(numMagnitud)).withColumn('RANGO', lit(\"Rango 2\"))\n",
    "    return fase1\n",
    "\n",
    "media1 = media_tramo1(6,\"Monóxido de Carbono\")\n",
    "media2 = media_tramo1(1,\"Dioxido de Azufre\")\n",
    "media3 = media_tramo1(7,\"Monóxido de Nitrógeno\")\n",
    "media4 = media_tramo1(8,\"Dióxido de Nitrógeno\")\n",
    "media5 = media_tramo1(12,\"Óxidos de Nitrógeno\")\n",
    "media6 = media_tramo1(42,\"Hidrocarburos Totales\")\n",
    "rango2 = media1.join(media2, ['RANGO']).join(media3, ['RANGO']).join(media4, ['RANGO']).join(media5, ['RANGO']).join(media6, ['RANGO'])\n",
    "rango2.show()"
   ]
  },
  {
   "cell_type": "code",
   "execution_count": 7,
   "id": "10b1840b-459f-4945-9825-99e22b85363d",
   "metadata": {},
   "outputs": [
    {
     "name": "stdout",
     "output_type": "stream",
     "text": [
      "+-------+-------------------+------------------+---------------------+--------------------+-------------------+---------------------+\n",
      "|  RANGO|Monóxido de Carbono| Dioxido de Azufre|Monóxido de Nitrógeno|Dióxido de Nitrógeno|Óxidos de Nitrógeno|Hidrocarburos Totales|\n",
      "+-------+-------------------+------------------+---------------------+--------------------+-------------------+---------------------+\n",
      "|Rango 3| 0.4411144319576782|1.7797453961191447|   1.6842190452248709|  12.044947789110415| 15.017845546801007|    1.277924999795841|\n",
      "+-------+-------------------+------------------+---------------------+--------------------+-------------------+---------------------+\n",
      "\n"
     ]
    }
   ],
   "source": [
    "#RANGO 3 - Meses de Junio / Julio / Agosto / Septiembre / Octubre 2020\n",
    "def media_tramo1(numMagnitud,nomMagnitud):\n",
    "    fase1 = mediaMagnitud.where(mediaMagnitud.magnitud == numMagnitud)\n",
    "    fase1 = fase1.where((mediaMagnitud.Fecha == \"2020-6\") \n",
    "                              | (mediaMagnitud.Fecha == \"2020-7\")\n",
    "                              | (mediaMagnitud.Fecha == \"2020-8\")\n",
    "                              | (mediaMagnitud.Fecha == \"2020-9\")\n",
    "                              | (mediaMagnitud.Fecha == \"2020-10\"))\n",
    "    fase1 = fase1.groupby(\"magnitud\").mean(\"avg(media_24h)\")\n",
    "    fase1 = fase1.withColumnRenamed(\"avg(avg(media_24h))\",str(nomMagnitud))\n",
    "    fase1 = fase1.withColumnRenamed(\"magnitud\",\"RANGO\")\n",
    "    fase1 = fase1.filter(fase1.RANGO == str(numMagnitud)).withColumn('RANGO', lit(\"Rango 3\"))\n",
    "    return fase1\n",
    "\n",
    "media1 = media_tramo1(6,\"Monóxido de Carbono\")\n",
    "media2 = media_tramo1(1,\"Dioxido de Azufre\")\n",
    "media3 = media_tramo1(7,\"Monóxido de Nitrógeno\")\n",
    "media4 = media_tramo1(8,\"Dióxido de Nitrógeno\")\n",
    "media5 = media_tramo1(12,\"Óxidos de Nitrógeno\")\n",
    "media6 = media_tramo1(42,\"Hidrocarburos Totales\")\n",
    "rango3 = media1.join(media2, ['RANGO']).join(media3, ['RANGO']).join(media4, ['RANGO']).join(media5, ['RANGO']).join(media6, ['RANGO'])\n",
    "rango3.show()"
   ]
  },
  {
   "cell_type": "code",
   "execution_count": 8,
   "id": "91426893-59d7-444f-a0fb-2e699851f95f",
   "metadata": {},
   "outputs": [
    {
     "name": "stdout",
     "output_type": "stream",
     "text": [
      "+-------+-------------------+-----------------+---------------------+--------------------+-------------------+---------------------+\n",
      "|  RANGO|Monóxido de Carbono|Dioxido de Azufre|Monóxido de Nitrógeno|Dióxido de Nitrógeno|Óxidos de Nitrógeno|Hidrocarburos Totales|\n",
      "+-------+-------------------+-----------------+---------------------+--------------------+-------------------+---------------------+\n",
      "|Rango 4| 0.4237501363809801|1.551086677689721|    6.378229872602186|  16.244671863518803|  26.31054199660144|   1.3512811053021168|\n",
      "+-------+-------------------+-----------------+---------------------+--------------------+-------------------+---------------------+\n",
      "\n"
     ]
    }
   ],
   "source": [
    "#RANGO 4 - Meses de Noviembre / Diciembre 2020 y Enero / Febrero / Marzo / Abril 2021\n",
    "def media_tramo1(numMagnitud,nomMagnitud):\n",
    "    fase1 = mediaMagnitud.where(mediaMagnitud.magnitud == numMagnitud)\n",
    "    fase1 = fase1.where((mediaMagnitud.Fecha == \"2020-11\") \n",
    "                              | (mediaMagnitud.Fecha == \"2020-12\")\n",
    "                              | (mediaMagnitud.Fecha == \"2021-1\")\n",
    "                              | (mediaMagnitud.Fecha == \"2021-2\")\n",
    "                              | (mediaMagnitud.Fecha == \"2021-3\")\n",
    "                              | (mediaMagnitud.Fecha == \"2021-4\"))\n",
    "    fase1 = fase1.groupby(\"magnitud\").mean(\"avg(media_24h)\")\n",
    "    fase1 = fase1.withColumnRenamed(\"avg(avg(media_24h))\",str(nomMagnitud))\n",
    "    fase1 = fase1.withColumnRenamed(\"magnitud\",\"RANGO\")\n",
    "    fase1 = fase1.filter(fase1.RANGO == str(numMagnitud)).withColumn('RANGO', lit(\"Rango 4\"))\n",
    "    return fase1\n",
    "\n",
    "media1 = media_tramo1(6,\"Monóxido de Carbono\")\n",
    "media2 = media_tramo1(1,\"Dioxido de Azufre\")\n",
    "media3 = media_tramo1(7,\"Monóxido de Nitrógeno\")\n",
    "media4 = media_tramo1(8,\"Dióxido de Nitrógeno\")\n",
    "media5 = media_tramo1(12,\"Óxidos de Nitrógeno\")\n",
    "media6 = media_tramo1(42,\"Hidrocarburos Totales\")\n",
    "rango4 = media1.join(media2, ['RANGO']).join(media3, ['RANGO']).join(media4, ['RANGO']).join(media5, ['RANGO']).join(media6, ['RANGO'])\n",
    "rango4.show()"
   ]
  },
  {
   "cell_type": "code",
   "execution_count": 9,
   "id": "e462f09a-f7ca-4f3f-b037-3593e94a0488",
   "metadata": {},
   "outputs": [
    {
     "name": "stdout",
     "output_type": "stream",
     "text": [
      "+-------+-------------------+-----------------+---------------------+--------------------+-------------------+---------------------+\n",
      "|  RANGO|Monóxido de Carbono|Dioxido de Azufre|Monóxido de Nitrógeno|Dióxido de Nitrógeno|Óxidos de Nitrógeno|Hidrocarburos Totales|\n",
      "+-------+-------------------+-----------------+---------------------+--------------------+-------------------+---------------------+\n",
      "|Rango 5| 0.4007337832940635|1.811987933406207|   2.4278754420636295|  13.664516214062653|  17.73255980932964|   1.3165925332651371|\n",
      "+-------+-------------------+-----------------+---------------------+--------------------+-------------------+---------------------+\n",
      "\n"
     ]
    }
   ],
   "source": [
    "#RANGO 5 - Meses de Mayo / Junio / Julio / Agosto / Septiembre / Octubre / Noviembre  2021\n",
    "def media_tramo1(numMagnitud,nomMagnitud):\n",
    "    fase1 = mediaMagnitud.where(mediaMagnitud.magnitud == numMagnitud)\n",
    "    fase1 = fase1.where((mediaMagnitud.Fecha == \"2021-5\") \n",
    "                              | (mediaMagnitud.Fecha == \"2021-6\")\n",
    "                              | (mediaMagnitud.Fecha == \"2021-7\")\n",
    "                              | (mediaMagnitud.Fecha == \"2021-8\")\n",
    "                              | (mediaMagnitud.Fecha == \"2021-9\")\n",
    "                              | (mediaMagnitud.Fecha == \"2021-10\")\n",
    "                              | (mediaMagnitud.Fecha == \"2021-11\"))\n",
    "    fase1 = fase1.groupby(\"magnitud\").mean(\"avg(media_24h)\")\n",
    "    fase1 = fase1.withColumnRenamed(\"avg(avg(media_24h))\",str(nomMagnitud))\n",
    "    fase1 = fase1.withColumnRenamed(\"magnitud\",\"RANGO\")\n",
    "    fase1 = fase1.filter(fase1.RANGO == str(numMagnitud)).withColumn('RANGO', lit(\"Rango 5\"))\n",
    "    return fase1\n",
    "\n",
    "media1 = media_tramo1(6,\"Monóxido de Carbono\")\n",
    "media2 = media_tramo1(1,\"Dioxido de Azufre\")\n",
    "media3 = media_tramo1(7,\"Monóxido de Nitrógeno\")\n",
    "media4 = media_tramo1(8,\"Dióxido de Nitrógeno\")\n",
    "media5 = media_tramo1(12,\"Óxidos de Nitrógeno\")\n",
    "media6 = media_tramo1(42,\"Hidrocarburos Totales\")\n",
    "rango5 = media1.join(media2, ['RANGO']).join(media3, ['RANGO']).join(media4, ['RANGO']).join(media5, ['RANGO']).join(media6, ['RANGO'])\n",
    "rango5.show()"
   ]
  },
  {
   "cell_type": "code",
   "execution_count": 10,
   "id": "4c769467-0e96-4e8d-bc1e-9012687a477d",
   "metadata": {},
   "outputs": [
    {
     "name": "stdout",
     "output_type": "stream",
     "text": [
      "+-------+-------------------+------------------+---------------------+--------------------+-------------------+---------------------+\n",
      "|  RANGO|Monóxido de Carbono| Dioxido de Azufre|Monóxido de Nitrógeno|Dióxido de Nitrógeno|Óxidos de Nitrógeno|Hidrocarburos Totales|\n",
      "+-------+-------------------+------------------+---------------------+--------------------+-------------------+---------------------+\n",
      "|Rango 6| 0.3857371033357376|1.7743372196938616|    5.958511496045564|   16.17012255988493|   25.6088218111856|   1.3433278515414386|\n",
      "+-------+-------------------+------------------+---------------------+--------------------+-------------------+---------------------+\n",
      "\n"
     ]
    }
   ],
   "source": [
    "#RANGO 6 - Meses de Diciembre 2021 y Enero / Febrero / Marzo / Abril / Mayo / Junio 2022\n",
    "def media_tramo1(numMagnitud,nomMagnitud):\n",
    "    fase1 = mediaMagnitud.where(mediaMagnitud.magnitud == numMagnitud)\n",
    "    fase1 = fase1.where((mediaMagnitud.Fecha == \"2021-12\") \n",
    "                              | (mediaMagnitud.Fecha == \"2022-1\")\n",
    "                              | (mediaMagnitud.Fecha == \"2022-2\")\n",
    "                              | (mediaMagnitud.Fecha == \"2022-3\")\n",
    "                              | (mediaMagnitud.Fecha == \"2022-4\")\n",
    "                              | (mediaMagnitud.Fecha == \"2022-5\")\n",
    "                              | (mediaMagnitud.Fecha == \"2022-6\"))\n",
    "    fase1 = fase1.groupby(\"magnitud\").mean(\"avg(media_24h)\")\n",
    "    fase1 = fase1.withColumnRenamed(\"avg(avg(media_24h))\",str(nomMagnitud))\n",
    "    fase1 = fase1.withColumnRenamed(\"magnitud\",\"RANGO\")\n",
    "    fase1 = fase1.filter(fase1.RANGO == str(numMagnitud)).withColumn('RANGO', lit(\"Rango 6\"))\n",
    "    return fase1\n",
    "\n",
    "media1 = media_tramo1(6,\"Monóxido de Carbono\")\n",
    "media2 = media_tramo1(1,\"Dioxido de Azufre\")\n",
    "media3 = media_tramo1(7,\"Monóxido de Nitrógeno\")\n",
    "media4 = media_tramo1(8,\"Dióxido de Nitrógeno\")\n",
    "media5 = media_tramo1(12,\"Óxidos de Nitrógeno\")\n",
    "media6 = media_tramo1(42,\"Hidrocarburos Totales\")\n",
    "rango6 = media1.join(media2, ['RANGO']).join(media3, ['RANGO']).join(media4, ['RANGO']).join(media5, ['RANGO']).join(media6, ['RANGO'])\n",
    "rango6.show()"
   ]
  },
  {
   "cell_type": "code",
   "execution_count": 11,
   "id": "690bf153-2520-40be-8bab-88c2f10e5b68",
   "metadata": {},
   "outputs": [
    {
     "name": "stdout",
     "output_type": "stream",
     "text": [
      "+-------+-------------------+------------------+---------------------+--------------------+-------------------+---------------------+\n",
      "|  RANGO|Monóxido de Carbono| Dioxido de Azufre|Monóxido de Nitrógeno|Dióxido de Nitrógeno|Óxidos de Nitrógeno|Hidrocarburos Totales|\n",
      "+-------+-------------------+------------------+---------------------+--------------------+-------------------+---------------------+\n",
      "|Rango 7|  0.471220891477129|1.9374143786965918|     4.32452783275945|  15.063774332665444|  21.98986947761495|   1.3247176515595898|\n",
      "+-------+-------------------+------------------+---------------------+--------------------+-------------------+---------------------+\n",
      "\n"
     ]
    }
   ],
   "source": [
    "#RANGO 7 - Meses de Julio / Agosto / Septiembre / Octubre / Noviembre / Diciembre 2022\n",
    "def media_tramo1(numMagnitud,nomMagnitud):\n",
    "    fase1 = mediaMagnitud.where(mediaMagnitud.magnitud == numMagnitud)\n",
    "    fase1 = fase1.where((mediaMagnitud.Fecha == \"2022-7\") \n",
    "                              | (mediaMagnitud.Fecha == \"2022-8\")\n",
    "                              | (mediaMagnitud.Fecha == \"2022-9\")\n",
    "                              | (mediaMagnitud.Fecha == \"2022-10\")\n",
    "                              | (mediaMagnitud.Fecha == \"2022-11\")\n",
    "                              | (mediaMagnitud.Fecha == \"2022-12\"))\n",
    "    fase1 = fase1.groupby(\"magnitud\").mean(\"avg(media_24h)\")\n",
    "    fase1 = fase1.withColumnRenamed(\"avg(avg(media_24h))\",str(nomMagnitud))\n",
    "    fase1 = fase1.withColumnRenamed(\"magnitud\",\"RANGO\")\n",
    "    fase1 = fase1.filter(fase1.RANGO == str(numMagnitud)).withColumn('RANGO', lit(\"Rango 7\"))\n",
    "    return fase1\n",
    "\n",
    "media1 = media_tramo1(6,\"Monóxido de Carbono\")\n",
    "media2 = media_tramo1(1,\"Dioxido de Azufre\")\n",
    "media3 = media_tramo1(7,\"Monóxido de Nitrógeno\")\n",
    "media4 = media_tramo1(8,\"Dióxido de Nitrógeno\")\n",
    "media5 = media_tramo1(12,\"Óxidos de Nitrógeno\")\n",
    "media6 = media_tramo1(42,\"Hidrocarburos Totales\")\n",
    "rango7 = media1.join(media2, ['RANGO']).join(media3, ['RANGO']).join(media4, ['RANGO']).join(media5, ['RANGO']).join(media6, ['RANGO'])\n",
    "rango7.show()"
   ]
  },
  {
   "cell_type": "code",
   "execution_count": 12,
   "id": "96c0116a-3cc3-469e-837b-b54b2efdc2f1",
   "metadata": {},
   "outputs": [],
   "source": [
    "rangos_medias = rango1.union(rango2).union(rango3).union(rango4).union(rango5).union(rango6).union(rango7)"
   ]
  },
  {
   "cell_type": "code",
   "execution_count": 13,
   "id": "256d47bc-b9e8-4243-a321-538b2c8762b6",
   "metadata": {},
   "outputs": [
    {
     "name": "stdout",
     "output_type": "stream",
     "text": [
      "+-------+-------------------+------------------+---------------------+--------------------+-------------------+---------------------+\n",
      "|  RANGO|Monóxido de Carbono| Dioxido de Azufre|Monóxido de Nitrógeno|Dióxido de Nitrógeno|Óxidos de Nitrógeno|Hidrocarburos Totales|\n",
      "+-------+-------------------+------------------+---------------------+--------------------+-------------------+---------------------+\n",
      "|Rango 1| 0.6214547668700391|1.2544592030360529|   17.447504702312354|  25.817908994947985|  52.71089663853794|   1.4538789988374354|\n",
      "|Rango 2| 0.4480774009327873| 1.297079337401918|   1.6833746671314687|   8.977033506095728| 11.979057566422796|    1.360752566854871|\n",
      "|Rango 3| 0.4411144319576782|1.7797453961191447|   1.6842190452248709|  12.044947789110415| 15.017845546801007|    1.277924999795841|\n",
      "|Rango 4| 0.4237501363809801| 1.551086677689721|    6.378229872602186|  16.244671863518803|  26.31054199660144|   1.3512811053021168|\n",
      "|Rango 5| 0.4007337832940635| 1.811987933406207|   2.4278754420636295|  13.664516214062653|  17.73255980932964|   1.3165925332651371|\n",
      "|Rango 6| 0.3857371033357376|1.7743372196938616|    5.958511496045564|   16.17012255988493|   25.6088218111856|   1.3433278515414386|\n",
      "|Rango 7|  0.471220891477129|1.9374143786965918|     4.32452783275945|  15.063774332665444|  21.98986947761495|   1.3247176515595898|\n",
      "+-------+-------------------+------------------+---------------------+--------------------+-------------------+---------------------+\n",
      "\n"
     ]
    }
   ],
   "source": [
    "rangos_medias.show()"
   ]
  }
 ],
 "metadata": {
  "kernelspec": {
   "display_name": "Python 3 (ipykernel)",
   "language": "python",
   "name": "python3"
  },
  "language_info": {
   "codemirror_mode": {
    "name": "ipython",
    "version": 3
   },
   "file_extension": ".py",
   "mimetype": "text/x-python",
   "name": "python",
   "nbconvert_exporter": "python",
   "pygments_lexer": "ipython3",
   "version": "3.9.12"
  }
 },
 "nbformat": 4,
 "nbformat_minor": 5
}
