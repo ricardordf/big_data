{
 "cells": [
  {
   "cell_type": "code",
   "execution_count": 1,
   "id": "12638815-46c3-4ba6-b597-3818e2d12e07",
   "metadata": {},
   "outputs": [],
   "source": [
    "import os\n",
    "import glob\n",
    "import findspark\n",
    "findspark.init()\n",
    "import time\n",
    "import pyspark\n",
    "from pyspark.sql.functions import *\n",
    "from pyspark.sql import SparkSession\n",
    "from pyspark.sql.types import *\n",
    "from pyspark.sql.types import StructType, StringType, IntegerType, StructField, ArrayType, DateType\n",
    "spark = SparkSession.builder.master(\"local[*]\").getOrCreate()"
   ]
  },
  {
   "cell_type": "code",
   "execution_count": 28,
   "id": "44f7ccda-4d6a-43de-bc8b-2a4478539700",
   "metadata": {},
   "outputs": [],
   "source": [
    "acustica = spark.read.csv(\"tramos_acustica.csv\",header=True, inferSchema=True)\n",
    "aire = spark.read.csv(\"tramos_aire.csv\",header=True, inferSchema=True)\n",
    "trafico = spark.read.csv(\"tramos_trafico.csv\",header=True, inferSchema=True)\n"
   ]
  },
  {
   "cell_type": "code",
   "execution_count": 30,
   "id": "1d13cbae-6f6e-44a5-89e7-7b42ae4232bc",
   "metadata": {},
   "outputs": [],
   "source": [
    "tabla_final = acustica.join(aire, ['RANGO']).join(trafico, ['RANGO'])"
   ]
  },
  {
   "cell_type": "code",
   "execution_count": 32,
   "id": "cb868e82-c8d5-4d46-add0-5c55381f9fa7",
   "metadata": {},
   "outputs": [
    {
     "name": "stdout",
     "output_type": "stream",
     "text": [
      "+-------+------------------+-------------------+------------------+---------------------+--------------------+-------------------+---------------------+------------------------+\n",
      "|  RANGO|  MEDIA DECIBELIOS|Monóxido de Carbono| Dioxido de Azufre|Monóxido de Nitrógeno|Dióxido de Nitrógeno|Óxidos de Nitrógeno|Hidrocarburos Totales|MEDIA INTENSIDAD TRAFICO|\n",
      "+-------+------------------+-------------------+------------------+---------------------+--------------------+-------------------+---------------------+------------------------+\n",
      "|Rango 1|              61.9| 0.6214547668700391|1.2544592030360529|   17.447504702312354|  25.817908994947985|  52.71089663853794|   1.4538789988374354|       403.9810309658522|\n",
      "|Rango 2|58.666666666666664| 0.4480774009327873| 1.297079337401918|   1.6833746671314687|   8.977033506095728| 11.979057566422796|    1.360752566854871|      103.65971343341077|\n",
      "|Rango 3| 59.89166666666667| 0.4411144319576782|1.7797453961191447|   1.6842190452248709|  12.044947789110415| 15.017845546801007|    1.277924999795841|        288.029068682581|\n",
      "|Rango 4|             60.65| 0.4237501363809801| 1.551086677689721|    6.378229872602186|  16.244671863518803|  26.31054199660144|   1.3512811053021168|       329.6692256373894|\n",
      "|Rango 5|58.877210884353744| 0.4007337832940635| 1.811987933406207|   2.4278754420636295|  13.664516214062653|  17.73255980932964|   1.3165925332651371|      362.67685728618875|\n",
      "|Rango 6|60.278571428571425| 0.3857371033357376|1.7743372196938616|    5.958511496045564|   16.17012255988493|   25.6088218111856|   1.3433278515414386|      364.69273030969066|\n",
      "|Rango 7|              61.5|  0.471220891477129|1.9374143786965918|     4.32452783275945|  15.063774332665444|  21.98986947761495|   1.3247176515595898|      352.66431178608815|\n",
      "+-------+------------------+-------------------+------------------+---------------------+--------------------+-------------------+---------------------+------------------------+\n",
      "\n"
     ]
    }
   ],
   "source": [
    "tabla_final.show()"
   ]
  },
  {
   "cell_type": "code",
   "execution_count": 33,
   "id": "1e4e1639-3869-409a-95ea-d6a8477968fb",
   "metadata": {},
   "outputs": [],
   "source": [
    "prueba = tabla_final.toPandas() \n",
    "prueba.to_csv('tramos_final.csv', index=False)"
   ]
  }
 ],
 "metadata": {
  "kernelspec": {
   "display_name": "Python 3 (ipykernel)",
   "language": "python",
   "name": "python3"
  },
  "language_info": {
   "codemirror_mode": {
    "name": "ipython",
    "version": 3
   },
   "file_extension": ".py",
   "mimetype": "text/x-python",
   "name": "python",
   "nbconvert_exporter": "python",
   "pygments_lexer": "ipython3",
   "version": "3.9.12"
  }
 },
 "nbformat": 4,
 "nbformat_minor": 5
}
