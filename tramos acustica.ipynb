{
 "cells": [
  {
   "cell_type": "code",
   "execution_count": 1,
   "id": "9477cb06-46e9-47c8-bc08-4c13291ea211",
   "metadata": {},
   "outputs": [],
   "source": [
    "import os\n",
    "import glob\n",
    "import findspark\n",
    "findspark.init()\n",
    "import time\n",
    "import pyspark\n",
    "from pyspark.sql.functions import *\n",
    "from pyspark.sql import SparkSession\n",
    "from pyspark.sql.types import *\n",
    "from pyspark.sql.types import StructType, StringType, IntegerType, StructField, ArrayType, DateType\n",
    "spark = SparkSession.builder.master(\"local[*]\").getOrCreate()"
   ]
  },
  {
   "cell_type": "code",
   "execution_count": 2,
   "id": "24071372-f607-4f13-83e8-2927ba9d3315",
   "metadata": {},
   "outputs": [],
   "source": [
    "schema = StructType([StructField('Fecha', DateType(), True),StructField('NMT', IntegerType(), True)\n",
    "                     ,StructField('Nombre', StringType(), True),StructField('Ld', IntegerType(), True)\n",
    "                     ,StructField('Le', IntegerType(), True),StructField('Ln', IntegerType(), True)\n",
    "                     ,StructField('LAeq24', IntegerType(), True),StructField('LAS01', IntegerType(), True)\n",
    "                     ,StructField('LAS10', IntegerType(), True),StructField('LAS50', IntegerType(), True)\n",
    "                     ,StructField('LAS90', IntegerType(), True),StructField('LAS99', IntegerType(), True)])"
   ]
  },
  {
   "cell_type": "code",
   "execution_count": 3,
   "id": "60779d55-76a1-4279-96c6-e70295d786b7",
   "metadata": {},
   "outputs": [],
   "source": [
    "csv_files = glob.glob('datos_acusticos/*.{}'.format('csv'))\n",
    "añosAcustico = spark.createDataFrame([], schema)\n",
    "for file in csv_files:\n",
    "            temp = spark.read.csv(file,header=True, inferSchema=True, sep=\";\")\n",
    "            añosAcustico = añosAcustico.union(temp)\n",
    "añosAcustico = añosAcustico.withColumn(\"LAeq24\",añosAcustico.LAeq24.cast(DoubleType()))"
   ]
  },
  {
   "cell_type": "code",
   "execution_count": 4,
   "id": "743c8224-486c-4a7c-a899-485d8f8818d2",
   "metadata": {},
   "outputs": [],
   "source": [
    "mediaDecibelios = añosAcustico.groupBy(\"Fecha\").mean(\"LAeq24\")\n",
    "mediaDecibelios = mediaDecibelios.withColumnRenamed(\"avg(LAeq24)\",\"Media Decibelios\")"
   ]
  },
  {
   "cell_type": "code",
   "execution_count": 5,
   "id": "26a31c42-80b8-437a-b88c-bdc14976407f",
   "metadata": {},
   "outputs": [
    {
     "name": "stdout",
     "output_type": "stream",
     "text": [
      "+-------+----------------+\n",
      "|  RANGO|MEDIA DECIBELIOS|\n",
      "+-------+----------------+\n",
      "|Rango 1|            61.9|\n",
      "+-------+----------------+\n",
      "\n"
     ]
    }
   ],
   "source": [
    "#RANGO 1 - Meses de Diciembre 2019 y Enero / Febrero 2020\n",
    "fase1 = mediaDecibelios.where((mediaDecibelios.Fecha == \"dic-19\") \n",
    "                              | (mediaDecibelios.Fecha == \"ene-20\") \n",
    "                              | (mediaDecibelios.Fecha == \"feb-20\"))\n",
    "media1 = fase1.groupBy(\"Fecha\").mean(\"Media Decibelios\")\n",
    "rango1 = media1.withColumn(\"RANGO\", lit(\"Rango 1\"))\n",
    "rango1 = rango1.drop(\"id\").groupby(\"RANGO\").mean(\"avg(Media Decibelios)\")\n",
    "rango1 = rango1.withColumnRenamed(\"avg(avg(Media Decibelios))\",\"MEDIA DECIBELIOS\")\n",
    "rango1.show()"
   ]
  },
  {
   "cell_type": "code",
   "execution_count": 6,
   "id": "26e1320f-c155-4bc5-8b2f-e96f4f01b425",
   "metadata": {},
   "outputs": [
    {
     "name": "stdout",
     "output_type": "stream",
     "text": [
      "+-------+------------------+\n",
      "|  RANGO|  MEDIA DECIBELIOS|\n",
      "+-------+------------------+\n",
      "|Rango 2|58.666666666666664|\n",
      "+-------+------------------+\n",
      "\n"
     ]
    }
   ],
   "source": [
    "#RANGO 2 - Meses de Marzo / Abril / Mayo 2020\n",
    "fase2 = mediaDecibelios.where((mediaDecibelios.Fecha == \"mar-20\") \n",
    "                              | (mediaDecibelios.Fecha == \"abr-20\") \n",
    "                              | (mediaDecibelios.Fecha == \"may-20\"))\n",
    "media2 = fase2.groupBy(\"Fecha\").mean(\"Media Decibelios\")\n",
    "rango2 = media2.withColumn(\"RANGO\", lit(\"Rango 2\"))\n",
    "rango2 = rango2.drop(\"id\").groupby(\"RANGO\").mean(\"avg(Media Decibelios)\")\n",
    "rango2 = rango2.withColumnRenamed(\"avg(avg(Media Decibelios))\",\"MEDIA DECIBELIOS\")\n",
    "rango2.show()"
   ]
  },
  {
   "cell_type": "code",
   "execution_count": 7,
   "id": "50576fd9-31a5-4f16-ae6c-67ea49ddffab",
   "metadata": {},
   "outputs": [
    {
     "name": "stdout",
     "output_type": "stream",
     "text": [
      "+-------+-----------------+\n",
      "|  RANGO| MEDIA DECIBELIOS|\n",
      "+-------+-----------------+\n",
      "|Rango 3|59.89166666666667|\n",
      "+-------+-----------------+\n",
      "\n"
     ]
    }
   ],
   "source": [
    "#RANGO 3 - Meses de Junio / Julio / Agosto / Septiembre / Octubre 2020\n",
    "fase3 = mediaDecibelios.where((mediaDecibelios.Fecha == \"jun-20\") \n",
    "                              | (mediaDecibelios.Fecha == \"jul-20\")\n",
    "                              | (mediaDecibelios.Fecha == \"ago-20\")\n",
    "                              | (mediaDecibelios.Fecha == \"sep-20\")\n",
    "                              | (mediaDecibelios.Fecha == \"oct-20\"))\n",
    "media3 = fase3.groupBy(\"Fecha\").mean(\"Media Decibelios\")\n",
    "rango3 = media3.withColumn(\"RANGO\", lit(\"Rango 3\"))\n",
    "rango3 = rango3.drop(\"id\").groupby(\"RANGO\").mean(\"avg(Media Decibelios)\")\n",
    "rango3 = rango3.withColumnRenamed(\"avg(avg(Media Decibelios))\",\"MEDIA DECIBELIOS\")\n",
    "rango3.show()"
   ]
  },
  {
   "cell_type": "code",
   "execution_count": 8,
   "id": "df769b16-fbea-4543-9f1c-31989760e0e6",
   "metadata": {},
   "outputs": [
    {
     "name": "stdout",
     "output_type": "stream",
     "text": [
      "+-------+----------------+\n",
      "|  RANGO|MEDIA DECIBELIOS|\n",
      "+-------+----------------+\n",
      "|Rango 4|           60.65|\n",
      "+-------+----------------+\n",
      "\n"
     ]
    }
   ],
   "source": [
    "#RANGO 4 - Meses de Noviembre / Diciembre 2020 y Enero / Febrero / Marzo / Abril 2021\n",
    "fase4 = mediaDecibelios.where((mediaDecibelios.Fecha == \"nov-20\") \n",
    "                              | (mediaDecibelios.Fecha == \"dic-20\")\n",
    "                              | (mediaDecibelios.Fecha == \"ene-21\")\n",
    "                              | (mediaDecibelios.Fecha == \"feb-21\")\n",
    "                              | (mediaDecibelios.Fecha == \"mar-21\")\n",
    "                              | (mediaDecibelios.Fecha == \"abr-21\"))\n",
    "media4 = fase4.groupBy(\"Fecha\").mean(\"Media Decibelios\")\n",
    "rango4 = media4.withColumn(\"RANGO\", lit(\"Rango 4\"))\n",
    "rango4 = rango4.drop(\"id\").groupby(\"RANGO\").mean(\"avg(Media Decibelios)\")\n",
    "rango4 = rango4.withColumnRenamed(\"avg(avg(Media Decibelios))\",\"MEDIA DECIBELIOS\")\n",
    "rango4.show()"
   ]
  },
  {
   "cell_type": "code",
   "execution_count": 9,
   "id": "fb76d16f-fcfd-496b-b694-39087062900b",
   "metadata": {},
   "outputs": [
    {
     "name": "stdout",
     "output_type": "stream",
     "text": [
      "+-------+------------------+\n",
      "|  RANGO|  MEDIA DECIBELIOS|\n",
      "+-------+------------------+\n",
      "|Rango 5|58.877210884353744|\n",
      "+-------+------------------+\n",
      "\n"
     ]
    }
   ],
   "source": [
    "#RANGO 5 - Meses de Mayo / Junio / Julio / Agosto / Septiembre / Octubre / Noviembre  2021\n",
    "fase5 = mediaDecibelios.where((mediaDecibelios.Fecha == \"may-21\") \n",
    "                              | (mediaDecibelios.Fecha == \"jun-21\")\n",
    "                              | (mediaDecibelios.Fecha == \"jul-21\")\n",
    "                              | (mediaDecibelios.Fecha == \"ago-21\")\n",
    "                              | (mediaDecibelios.Fecha == \"sep-21\")\n",
    "                              | (mediaDecibelios.Fecha == \"oct-21\")\n",
    "                              | (mediaDecibelios.Fecha == \"nov-21\"))\n",
    "media5 = fase5.groupBy(\"Fecha\").mean(\"Media Decibelios\")\n",
    "rango5 = media5.withColumn(\"RANGO\", lit(\"Rango 5\"))\n",
    "rango5 = rango5.drop(\"id\").groupby(\"RANGO\").mean(\"avg(Media Decibelios)\")\n",
    "rango5 = rango5.withColumnRenamed(\"avg(avg(Media Decibelios))\",\"MEDIA DECIBELIOS\")\n",
    "rango5.show()"
   ]
  },
  {
   "cell_type": "code",
   "execution_count": 10,
   "id": "170ba93e-c8f8-426f-b516-9fd1d03e353f",
   "metadata": {},
   "outputs": [
    {
     "name": "stdout",
     "output_type": "stream",
     "text": [
      "+-------+------------------+\n",
      "|  RANGO|  MEDIA DECIBELIOS|\n",
      "+-------+------------------+\n",
      "|Rango 6|60.278571428571425|\n",
      "+-------+------------------+\n",
      "\n"
     ]
    }
   ],
   "source": [
    "#RANGO 6 - Meses de Diciembre 2021 y Enero / Febrero / Marzo / Abril / Mayo / Junio 2022\n",
    "fase6 = mediaDecibelios.where((mediaDecibelios.Fecha == \"dic-21\") \n",
    "                              | (mediaDecibelios.Fecha == \"ene-22\") \n",
    "                              | (mediaDecibelios.Fecha == \"feb-22\")\n",
    "                              | (mediaDecibelios.Fecha == \"mar-22\")\n",
    "                              | (mediaDecibelios.Fecha == \"abr-22\")\n",
    "                              | (mediaDecibelios.Fecha == \"may-22\")\n",
    "                              | (mediaDecibelios.Fecha == \"jun-22\"))\n",
    "media6 = fase6.groupBy(\"Fecha\").mean(\"Media Decibelios\")\n",
    "rango6 = media6.withColumn(\"RANGO\", lit(\"Rango 6\"))\n",
    "rango6 = rango6.drop(\"id\").groupby(\"RANGO\").mean(\"avg(Media Decibelios)\")\n",
    "rango6 = rango6.withColumnRenamed(\"avg(avg(Media Decibelios))\",\"MEDIA DECIBELIOS\")\n",
    "rango6.show()"
   ]
  },
  {
   "cell_type": "code",
   "execution_count": 11,
   "id": "c524d732-190f-41a0-bdab-d19f9d8d73fa",
   "metadata": {},
   "outputs": [
    {
     "name": "stdout",
     "output_type": "stream",
     "text": [
      "+-------+----------------+\n",
      "|  RANGO|MEDIA DECIBELIOS|\n",
      "+-------+----------------+\n",
      "|Rango 7|            61.5|\n",
      "+-------+----------------+\n",
      "\n"
     ]
    }
   ],
   "source": [
    "#RANGO 7 - Meses de Julio / Agosto / Septiembre / Octubre / Noviembre / Diciembre 2022\n",
    "fase7 = mediaDecibelios.where((mediaDecibelios.Fecha == \"jul-22\") \n",
    "                              | (mediaDecibelios.Fecha == \"ago-22\") \n",
    "                              | (mediaDecibelios.Fecha == \"sept-22\")\n",
    "                              | (mediaDecibelios.Fecha == \"oct-22\")\n",
    "                              | (mediaDecibelios.Fecha == \"nov-22\")\n",
    "                              | (mediaDecibelios.Fecha == \"dic-22\"))\n",
    "media7 = fase7.groupBy(\"Fecha\").mean(\"Media Decibelios\")\n",
    "rango7 = media7.withColumn(\"RANGO\", lit(\"Rango 7\"))\n",
    "rango7 = rango7.drop(\"id\").groupby(\"RANGO\").mean(\"avg(Media Decibelios)\")\n",
    "rango7 = rango7.withColumnRenamed(\"avg(avg(Media Decibelios))\",\"MEDIA DECIBELIOS\")\n",
    "rango7.show()"
   ]
  },
  {
   "cell_type": "code",
   "execution_count": 12,
   "id": "c2c98ec6-cbc1-474c-8952-c40b1c4c3abf",
   "metadata": {},
   "outputs": [],
   "source": [
    "rangos_medias = rango1.union(rango2).union(rango3).union(rango4).union(rango5).union(rango6).union(rango7)"
   ]
  },
  {
   "cell_type": "code",
   "execution_count": 13,
   "id": "642ba981-6f38-4c9d-826f-21ef47ec5a4c",
   "metadata": {},
   "outputs": [
    {
     "name": "stdout",
     "output_type": "stream",
     "text": [
      "+-------+------------------+\n",
      "|  RANGO|  MEDIA DECIBELIOS|\n",
      "+-------+------------------+\n",
      "|Rango 1|              61.9|\n",
      "|Rango 2|58.666666666666664|\n",
      "|Rango 3| 59.89166666666667|\n",
      "|Rango 4|             60.65|\n",
      "|Rango 5|58.877210884353744|\n",
      "|Rango 6|60.278571428571425|\n",
      "|Rango 7|              61.5|\n",
      "+-------+------------------+\n",
      "\n"
     ]
    }
   ],
   "source": [
    "rangos_medias.show()"
   ]
  }
 ],
 "metadata": {
  "kernelspec": {
   "display_name": "Python 3 (ipykernel)",
   "language": "python",
   "name": "python3"
  },
  "language_info": {
   "codemirror_mode": {
    "name": "ipython",
    "version": 3
   },
   "file_extension": ".py",
   "mimetype": "text/x-python",
   "name": "python",
   "nbconvert_exporter": "python",
   "pygments_lexer": "ipython3",
   "version": "3.9.12"
  }
 },
 "nbformat": 4,
 "nbformat_minor": 5
}
